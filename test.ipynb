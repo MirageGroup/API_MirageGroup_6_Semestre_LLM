{
 "cells": [
  {
   "cell_type": "code",
   "execution_count": 1,
   "metadata": {},
   "outputs": [],
   "source": [
    "\n",
    "\n",
    "import os\n",
    "from langchain_groq import ChatGroq\n",
    "\n",
    "# Configurar API key\n",
    "if not os.environ.get(\"GROQ_API_KEY\"):\n",
    "    os.environ[\"GROQ_API_KEY\"] = userdata.get('GROQ_API_KEY')\n",
    "\n",
    "# Inicializar o modelo\n",
    "model = ChatGroq(model = \"llama3-70b-8192\", temperature = 0.3)"
   ]
  },
  {
   "cell_type": "code",
   "execution_count": 11,
   "metadata": {},
   "outputs": [
    {
     "name": "stdout",
     "output_type": "stream",
     "text": [
      "Os sintomas do Alzheimer variam de pessoa para pessoa e podem mudar ao longo do tempo. No entanto, aqui estão alguns dos sintomas comuns da doença de Alzheimer:\n",
      "\n",
      "**Sintomas iniciais:**\n",
      "\n",
      "1. **Perda de memória recente**: Esquecimento de eventos recentes, conversas ou informações aprendidas recentemente.\n",
      "2. **Dificuldade em aprender novas informações**: Dificuldade em absorver e lembrar novas informações, como nomes, datas ou instruções.\n",
      "3. **Confusão e desorientação**: Dificuldade em entender o tempo, o lugar ou a situação atual.\n",
      "4. **Perda de objetos**: Esquecimento de onde foram colocados objetos ou dificuldade em encontrar coisas.\n",
      "5. **Dificuldade em realizar tarefas diárias**: Dificuldade em realizar tarefas rotineiras, como cozinhar, se vestir ou se cuidar.\n",
      "\n",
      "**Sintomas moderados:**\n",
      "\n",
      "1. **Perda de memória mais grave**: Esquecimento de eventos importantes, como aniversários ou datas especiais.\n",
      "2. **Dificuldade em comunicar**: Dificuldade em encontrar as palavras certas, expressar pensamentos ou entender o que os outros estão dizendo.\n",
      "3. **Problemas de linguagem**: Dificuldade em ler, escrever ou falar corretamente.\n",
      "4. **Perda de habilidades motoras**: Dificuldade em realizar atividades que requerem coordenação motora, como andar, se vestir ou se alimentar.\n",
      "5. **Mudanças de personalidade**: Mudanças de humor, ansiedade, depressão ou agitação.\n",
      "\n",
      "**Sintomas avançados:**\n",
      "\n",
      "1. **Perda de memória severa**: Esquecimento de eventos importantes, pessoas ou lugares.\n",
      "2. **Dificuldade em reconhecer pessoas**: Dificuldade em reconhecer familiares, amigos ou conhecidos.\n",
      "3. **Perda de habilidades básicas**: Dificuldade em realizar atividades básicas, como se alimentar, se vestir ou usar o banheiro.\n",
      "4. **Problemas de movimento**: Dificuldade em caminhar, sentar ou realizar atividades que requerem movimento.\n",
      "5. **Perda de linguagem**: Perda total da capacidade de falar ou entender o que os outros estão dizendo.\n",
      "\n",
      "**Outros sintomas:**\n",
      "\n",
      "1. **Delírios**: Crenças falsas ou distorcidas sobre si mesmo ou o mundo ao redor.\n",
      "2. **Alucinações**: Percepção de coisas que não existem, como vozes ou visões.\n",
      "3. **Agitação**: Ansiedade, agressividade ou agitação, especialmente em resposta a mudanças ou estresse.\n",
      "4. **Perda de inibição**: Perda de controle sobre impulsos ou comportamentos inapropriados.\n",
      "5. **Sintomas físicos**: Dores, perda de apetite, perda de peso, problemas de sono ou outros sintomas físicos.\n",
      "\n",
      "É importante notar que cada pessoa com Alzheimer pode experimentar sintomas diferentes e em graus variados. Além disso, os sintomas podem mudar ao longo do tempo, tornando-se mais graves ou mais leves."
     ]
    }
   ],
   "source": [
    "for chunk in model.stream('Quais os sintomas do alzheimer'):\n",
    "    print(chunk.content, end=\"\", flush=True)"
   ]
  }
 ],
 "metadata": {
  "kernelspec": {
   "display_name": "venv",
   "language": "python",
   "name": "python3"
  },
  "language_info": {
   "codemirror_mode": {
    "name": "ipython",
    "version": 3
   },
   "file_extension": ".py",
   "mimetype": "text/x-python",
   "name": "python",
   "nbconvert_exporter": "python",
   "pygments_lexer": "ipython3",
   "version": "3.12.9"
  }
 },
 "nbformat": 4,
 "nbformat_minor": 2
}
